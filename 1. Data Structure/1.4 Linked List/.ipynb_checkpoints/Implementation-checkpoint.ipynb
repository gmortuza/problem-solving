{
 "cells": [
  {
   "cell_type": "code",
   "execution_count": null,
   "metadata": {},
   "outputs": [],
   "source": []
  },
  {
   "cell_type": "code",
   "execution_count": 13,
   "metadata": {},
   "outputs": [],
   "source": [
    "class Node:\n",
    "    def __init__(self, value):\n",
    "        self.next_node = None\n",
    "        self.value = value\n",
    "        \n",
    "    def set_value(self, element) -> None:\n",
    "        self.value = element\n",
    "    \n",
    "    def get_value(self) -> None:\n",
    "        return self.value\n",
    "    \n",
    "    def set_next(self, next_node: Node) -> None:\n",
    "        self.next_node = next_node\n",
    "        \n",
    "    def get_next(self)-> Node:\n",
    "        return self.next_node"
   ]
  },
  {
   "cell_type": "code",
   "execution_count": 15,
   "metadata": {},
   "outputs": [],
   "source": [
    "class LinkedList:\n",
    "    def __init__(self):\n",
    "        self.head = self.tail = None\n",
    "        \n",
    "    def insert_at_head(self, element) -> None:\n",
    "        if self.is_empty():\n",
    "            self.__set_first_element(element)\n",
    "        else:\n",
    "            node = Node(element)\n",
    "            node.set_next(self.head)\n",
    "            self.head = node\n",
    "        \n",
    "    def insert_at_tail(self, element) -> None:\n",
    "        if self.is_empty():\n",
    "            self.__set_first_element(element)\n",
    "        else:\n",
    "            node = Node(element)\n",
    "            self.tail.set_next(node)\n",
    "            self.tail = node\n",
    "        \n",
    "    \n",
    "    def delete_at_head(self):\n",
    "        head = self.head\n",
    "        self.head = head.get_next()\n",
    "        return head\n",
    "    \n",
    "    def delete_at_tail(self):\n",
    "        current_element = self.head # Start the looping from the head\n",
    "        # For singly linked list this operation would be O(n)\n",
    "        while True: # we will keep looking untill we get the next element as tail\n",
    "            if current_element.get_next() == self.tail:\n",
    "                self.tail = current_element\n",
    "                return self.tail\n",
    "            current_element = current_element.get_next()\n",
    "        pass\n",
    "        \n",
    "    def is_empty(self):\n",
    "        return self.head == self.tail == None\n",
    "    \n",
    "    def __set_first_element(self, element):\n",
    "        node = Node(element)\n",
    "        self.head = self.tail = node"
   ]
  },
  {
   "cell_type": "code",
   "execution_count": 16,
   "metadata": {},
   "outputs": [],
   "source": [
    "ll = LinkedList()"
   ]
  },
  {
   "cell_type": "code",
   "execution_count": 17,
   "metadata": {},
   "outputs": [],
   "source": [
    "ll.insert_at_head(3)"
   ]
  },
  {
   "cell_type": "code",
   "execution_count": 14,
   "metadata": {},
   "outputs": [],
   "source": [
    "ll."
   ]
  },
  {
   "cell_type": "code",
   "execution_count": null,
   "metadata": {},
   "outputs": [],
   "source": []
  }
 ],
 "metadata": {
  "kernelspec": {
   "display_name": "Python 3",
   "language": "python",
   "name": "python3"
  },
  "language_info": {
   "codemirror_mode": {
    "name": "ipython",
    "version": 3
   },
   "file_extension": ".py",
   "mimetype": "text/x-python",
   "name": "python",
   "nbconvert_exporter": "python",
   "pygments_lexer": "ipython3",
   "version": "3.7.3"
  }
 },
 "nbformat": 4,
 "nbformat_minor": 2
}
